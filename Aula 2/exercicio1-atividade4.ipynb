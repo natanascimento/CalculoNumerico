{
 "cells": [
  {
   "cell_type": "markdown",
   "metadata": {},
   "source": [
    "# #Método de Newton"
   ]
  },
  {
   "cell_type": "code",
   "execution_count": 1,
   "metadata": {},
   "outputs": [],
   "source": [
    "#Exercicio 1 - Atividade 4\n",
    "\n",
    "import numpy as np\n",
    "import matplotlib.pyplot as plt"
   ]
  },
  {
   "cell_type": "code",
   "execution_count": 6,
   "metadata": {},
   "outputs": [
    {
     "data": {
      "image/png": "[encoded data removed]",
      "text/plain": [
       "<Figure size 432x288 with 1 Axes>"
      ]
     },
     "metadata": {
      "needs_background": "light"
     },
     "output_type": "display_data"
    }
   ],
   "source": [
    "##Funcão f###\n",
    "\n",
    "def f(x):\n",
    "    y = np.cos(x) - x\n",
    "    return y\n",
    "\n",
    "###Derivada da função f###\n",
    "def df(x):\n",
    "    y = -np.sin(x) - 1\n",
    "    return y\n",
    "\n",
    "###Funçaõ y = 0###\n",
    "def zero(x):\n",
    "    y = x -x\n",
    "    return y\n",
    "\n",
    "valores = np.linspace(-5,5)\n",
    "\n",
    "#Gráfico da função f\n",
    "plt.plot(valores,f(valores))\n",
    "plt.plot(valores,zero(valores))\n",
    "plt.xlabel(\"eixo X\")\n",
    "plt.ylabel(\"eixo Y\")\n",
    "plt.grid(True)"
   ]
  },
  {
   "cell_type": "code",
   "execution_count": 7,
   "metadata": {},
   "outputs": [
    {
     "name": "stdout",
     "output_type": "stream",
     "text": [
      "***************MÉTODO DE NEWTON******************\n"
     ]
    }
   ],
   "source": [
    "import numpy as np\n",
    "print(\"***************MÉTODO DE NEWTON******************\")\n",
    "def newton(f,df,x0,precisao):\n",
    "    \n",
    "    if( (abs(f(x0))==0) or (abs(f(x0)))<precisao ):\n",
    "        return print(\"Aproximacao para a raiz: %10.5f \" %x0 )\n",
    "    else:\n",
    "         if(df(x0)==0):\n",
    "             return  print(\"DERIVADA NULA NO PONTO x0 !\")\n",
    "         else:\n",
    "             k = 1\n",
    "             xn = x0 - (f(x0)/df(x0))\n",
    "             print(\"x(0) = %5.4f | f(x(0)) =%5.8f \" %(xn,f(xn)))\n",
    "             while(abs(f(xn))>precisao): \n",
    "                 xn = x0 - (f(x0)/df(x0))\n",
    "                 print(\"x(%d) = %5.4f | f(x(%d)) =%5.8f \" %(k,xn,k,f(xn)))\n",
    "                 x0= xn\n",
    "                 k = k + 1\n",
    "                 \n",
    "    return"
   ]
  },
  {
   "cell_type": "code",
   "execution_count": 8,
   "metadata": {},
   "outputs": [
    {
     "name": "stdout",
     "output_type": "stream",
     "text": [
      "x(0) = 0.7845 | f(x(0)) =-0.07671130 \n",
      "x(1) = 0.7845 | f(x(1)) =-0.07671130 \n",
      "x(2) = 0.7395 | f(x(2)) =-0.00072571 \n",
      "x(3) = 0.7391 | f(x(3)) =-0.00000007 \n",
      "x(4) = 0.7391 | f(x(4)) =-0.00000000 \n"
     ]
    }
   ],
   "source": [
    "#aplicando o método de Newton\n",
    "\n",
    "x0 = 1.5\n",
    "precisao = 0.0000000001\n",
    "newton(f,df,x0,precisao)"
   ]
  }
 ],
 "metadata": {
  "kernelspec": {
   "display_name": "Python 3",
   "language": "python",
   "name": "python3"
  },
  "language_info": {
   "codemirror_mode": {
    "name": "ipython",
    "version": 3
   },
   "file_extension": ".py",
   "mimetype": "text/x-python",
   "name": "python",
   "nbconvert_exporter": "python",
   "pygments_lexer": "ipython3",
   "version": "3.7.4"
  }
 },
 "nbformat": 4,
 "nbformat_minor": 2
}
