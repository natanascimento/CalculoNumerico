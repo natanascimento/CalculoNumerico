{
 "cells": [
  {
   "cell_type": "code",
   "execution_count": 1,
   "metadata": {},
   "outputs": [],
   "source": [
    "import numpy as np\n",
    "import matplotlib.pyplot as plt"
   ]
  },
  {
   "cell_type": "code",
   "execution_count": 2,
   "metadata": {},
   "outputs": [
    {
     "name": "stdout",
     "output_type": "stream",
     "text": [
      "-0.11905305560545361\n",
      "*************************MÉTODO DA SECANTE****************************\n"
     ]
    },
    {
     "data": {
      "image/png": "[encoded data removed]",
      "text/plain": [
       "<Figure size 432x288 with 1 Axes>"
      ]
     },
     "metadata": {
      "needs_background": "light"
     },
     "output_type": "display_data"
    }
   ],
   "source": [
    "######função f###############\n",
    "def f(x):\n",
    "  a = np.sin(x)*np.cos(x)\n",
    "  b = (1/1.25) - (np.cos(x))**2\n",
    "  c = np.tan( (2*np.pi)/9 )\n",
    "  y = (a/b) - c\n",
    "  return y\n",
    "\n",
    "#### função y = 0 #####\n",
    "def zero(x):\n",
    "  y = x - x\n",
    "  return y\n",
    "#gráfico da função f\n",
    "valores = np.linspace(0,5)\n",
    "plt.plot(valores,f(valores))\n",
    "plt.plot(valores,zero(valores))\n",
    "plt.grid(True)\n",
    "\n",
    "w = f(0.8)*f(1.1)\n",
    "print(w)\n",
    "\n",
    "#MÉTODO DA SECANTE\n",
    "import numpy as np\n",
    "print(\"*************************MÉTODO DA SECANTE****************************\")\n",
    "def secante(f,a,b, precisao):\n",
    "    if(f(a)*f(b)>0):\n",
    "        print(\"f(a)*f(b)>0 \\n\")\n",
    "        return print(\"O metodo nao converge !\")\n",
    "    else:\n",
    "        x0 = a\n",
    "        x1 = b\n",
    "        x2 = (x0*f(x1) - x1*f(x0))/(f(x1) - f(x0))\n",
    "        if( (abs(f(x2))==0) or (abs(f(x1)))<precisao ):\n",
    "            return print(\"Aproximacao para a raiz: %10.5f \" %x2 )\n",
    "        else:\n",
    "            print(\"x(0) = %5.4f | f(x(0)) =%5.8f \" %(x0, np.abs(f(x0))))\n",
    "            print(\"x(1) = %5.4f | f(x(1)) =%5.8f \" %(x1, np.abs(f(x1))))\n",
    "            k=2\n",
    "            while(abs(f(x2))>precisao):\n",
    "                x0 = x1\n",
    "                x1 = x2\n",
    "                x2 = (x0*f(x1) - x1*f(x0))/(f(x1) - f(x0))\n",
    "                print(\"x(%d) = %5.4f | f(x(%d)) =%5.8f \" %(k,x2,k,np.abs(f(x2))))\n",
    "                k = k+1\n",
    "      \n",
    "    \n",
    "    return"
   ]
  },
  {
   "cell_type": "code",
   "execution_count": 3,
   "metadata": {},
   "outputs": [
    {
     "name": "stdout",
     "output_type": "stream",
     "text": [
      "x(0) = 0.8000 | f(x(0)) =0.74954366 \n",
      "x(1) = 1.1000 | f(x(1)) =0.15883405 \n",
      "x(2) = 1.0216 | f(x(2)) =0.00490982 \n",
      "x(3) = 1.0238 | f(x(3)) =0.00014492 \n",
      "x(4) = 1.0238 | f(x(4)) =0.00000039 \n"
     ]
    }
   ],
   "source": [
    "#aplicando o MÉTODO DA SECANTE\n",
    "#INTERVALO (a,b) que contém a raiz:\n",
    "a = 0.8\n",
    "b = 1.1\n",
    "#PRECISÃO\n",
    "precisao = 0.00001\n",
    "secante(f,a,b, precisao)"
   ]
  }
 ],
 "metadata": {
  "kernelspec": {
   "display_name": "Python 3",
   "language": "python",
   "name": "python3"
  },
  "language_info": {
   "codemirror_mode": {
    "name": "ipython",
    "version": 3
   },
   "file_extension": ".py",
   "mimetype": "text/x-python",
   "name": "python",
   "nbconvert_exporter": "python",
   "pygments_lexer": "ipython3",
   "version": "3.7.4"
  }
 },
 "nbformat": 4,
 "nbformat_minor": 2
}
