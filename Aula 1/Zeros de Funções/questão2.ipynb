{
 "cells": [
  {
   "cell_type": "code",
   "execution_count": null,
   "metadata": {},
   "outputs": [],
   "source": [
    "import pandas as pd\n",
    "import numpy as np\n",
    "import matplotlib.pyplot as plt"
   ]
  },
  {
   "cell_type": "code",
   "execution_count": null,
   "metadata": {},
   "outputs": [],
   "source": [
    "#Questão 2\n",
    "def f(x):\n",
    "  y = np.exp(-x) + x ** 2 - 10 \n",
    "  return y\n",
    "\n",
    "def zero(x):\n",
    "  y = x -x\n",
    "  return y\n",
    "\n",
    "def ploting():\n",
    "  a = float(input (\"Informe o valor de x: \"))\n",
    "  b = float(input (\"Informe o valor de y: \"))\n",
    "  \n",
    "  valores = np.linspace(a,b)\n",
    "\n",
    "  plt.plot(valores, f(valores))\n",
    "  plt.plot(valores, zero(valores))\n",
    "  plt.xlabel(\"eixo X\")\n",
    "  plt.ylabel(\"eixo Y\")\n",
    "  plt.grid(True)\n",
    "\n",
    "ploting()"
   ]
  }
 ],
 "metadata": {
  "kernelspec": {
   "display_name": "Python 3",
   "language": "python",
   "name": "python3"
  },
  "language_info": {
   "codemirror_mode": {
    "name": "ipython",
    "version": 3
   },
   "file_extension": ".py",
   "mimetype": "text/x-python",
   "name": "python",
   "nbconvert_exporter": "python",
   "pygments_lexer": "ipython3",
   "version": "3.7.4"
  }
 },
 "nbformat": 4,
 "nbformat_minor": 2
}
