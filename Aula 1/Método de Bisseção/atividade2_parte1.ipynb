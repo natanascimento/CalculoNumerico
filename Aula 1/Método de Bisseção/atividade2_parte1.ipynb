{
 "cells": [
  {
   "cell_type": "code",
   "execution_count": 2,
   "metadata": {},
   "outputs": [],
   "source": [
    "import pandas as pd\n",
    "import numpy as np\n",
    "import matplotlib.pyplot as plt"
   ]
  },
  {
   "cell_type": "code",
   "execution_count": 9,
   "metadata": {},
   "outputs": [
    {
     "data": {
      "image/png": "[encoded data removed]",
      "text/plain": [
       "<Figure size 432x288 with 1 Axes>"
      ]
     },
     "metadata": {
      "needs_background": "light"
     },
     "output_type": "display_data"
    }
   ],
   "source": [
    "#Questão 1\n",
    "\n",
    "def f(x):\n",
    "  y = (x ** 3) - (9 * x) + 3\n",
    "  return y\n",
    "\n",
    "def zero(x):\n",
    "  y = x -x\n",
    "  return y\n",
    "\n",
    "valores = np.linspace(-4,4)\n",
    "\n",
    "plt.plot(valores, f(valores))\n",
    "plt.plot(valores, zero(valores))\n",
    "plt.xlabel(\"eixo X\")\n",
    "plt.ylabel(\"eixo Y\")\n",
    "plt.grid(True)\n"
   ]
  },
  {
   "cell_type": "code",
   "execution_count": 10,
   "metadata": {},
   "outputs": [],
   "source": [
    "#Metodo da Bissecao\n",
    "def bissecao(f,a,b, precisao):\n",
    "    if(f(a)*f(b)>0):\n",
    "        print(\"f(a)*f(b)>0 \\n\")\n",
    "        return print(\"O metodo nao converge !\")\n",
    "    else:\n",
    "        k=0\n",
    "        p = (a+b)/2\n",
    "       \n",
    "        if( (abs(f(p))==0) or (abs(f(p)))<precisao ):\n",
    "            return print(\"Aproximacao para a raiz: %10.5f \" %p )\n",
    "        else:\n",
    "            k=1\n",
    "            while(abs(f(p))>precisao):\n",
    "                if (f(a)*f(p)<0):\n",
    "                    b = p\n",
    "                else:\n",
    "                    a = p\n",
    "                    k=k+1\n",
    "                p =(a+b)/2\n",
    "    print()    \n",
    "    s1 = print(\"Aproximacao para a raiz x_k: %8.5f \" %p)\n",
    "    s2 = print(\"Iteracoes: \",k)\n",
    "    s3 = print(\"f(x_k) = \", f(p))\n",
    "    return "
   ]
  },
  {
   "cell_type": "code",
   "execution_count": 11,
   "metadata": {},
   "outputs": [
    {
     "name": "stdout",
     "output_type": "stream",
     "text": [
      "\n",
      "Aproximacao para a raiz x_k:  0.33765 \n",
      "Iteracoes:  7\n",
      "f(x_k) =  -0.00032492181344423443\n"
     ]
    }
   ],
   "source": [
    "#Aplicando o método da bisseção\n",
    "#Intervalo (a,b) que contem a raiz\n",
    "\n",
    "a = 0\n",
    "b = 2\n",
    "\n",
    "#Precisão\n",
    "precisao = 0.001\n",
    "\n",
    "bissecao(f,a,b, precisao)"
   ]
  }
 ],
 "metadata": {
  "kernelspec": {
   "display_name": "Python 3",
   "language": "python",
   "name": "python3"
  },
  "language_info": {
   "codemirror_mode": {
    "name": "ipython",
    "version": 3
   },
   "file_extension": ".py",
   "mimetype": "text/x-python",
   "name": "python",
   "nbconvert_exporter": "python",
   "pygments_lexer": "ipython3",
   "version": "3.7.4"
  }
 },
 "nbformat": 4,
 "nbformat_minor": 2
}
